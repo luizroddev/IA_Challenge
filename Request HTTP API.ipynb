{
 "cells": [
  {
   "cell_type": "markdown",
   "id": "75901a6e",
   "metadata": {},
   "source": [
    "## Requisição HTTP para a API\n",
    "\n",
    "Faz uma requisição para a API em formato JSON. \n"
   ]
  },
  {
   "cell_type": "code",
   "execution_count": 25,
   "id": "9818b6f6",
   "metadata": {},
   "outputs": [
    {
     "name": "stdout",
     "output_type": "stream",
     "text": [
      "{'prediction': 'Iris-setosa', 'status': 200}\n",
      "Iris-setosa\n"
     ]
    }
   ],
   "source": [
    "import requests\n",
    "\n",
    "url = 'http://localhost:5000/results'\n",
    "\n",
    "data = {'sepal_length':1, \n",
    "        'sepal_width':5, \n",
    "        'petal_length':1, \n",
    "        'petal_width':2}\n",
    "\n",
    "r = requests.post(url,json=data)\n",
    "\n",
    "print(r.json())\n",
    "\n",
    "print(r.json()['prediction'])"
   ]
  },
  {
   "cell_type": "code",
   "execution_count": 26,
   "id": "34251bf0",
   "metadata": {},
   "outputs": [
    {
     "name": "stdout",
     "output_type": "stream",
     "text": [
      "{'prediction': \"Unable to convert array of bytes/strings into decimal numbers with dtype='numeric'\", 'status': 500}\n",
      "Unable to convert array of bytes/strings into decimal numbers with dtype='numeric'\n"
     ]
    }
   ],
   "source": [
    "import requests\n",
    "\n",
    "url = 'http://localhost:5000/results'\n",
    "\n",
    "data = {'sepal_length':'1k',  ## entrada de dados errada\n",
    "        'sepal_width':5, \n",
    "        'petal_length':1, \n",
    "        'petal_width':2}\n",
    "\n",
    "r = requests.post(url,json=data)\n",
    "\n",
    "print(r.json())\n",
    "\n",
    "print(r.json()['prediction'])"
   ]
  },
  {
   "cell_type": "code",
   "execution_count": null,
   "id": "155d216a",
   "metadata": {},
   "outputs": [],
   "source": []
  }
 ],
 "metadata": {
  "kernelspec": {
   "display_name": "Python 3",
   "language": "python",
   "name": "python3"
  },
  "language_info": {
   "codemirror_mode": {
    "name": "ipython",
    "version": 3
   },
   "file_extension": ".py",
   "mimetype": "text/x-python",
   "name": "python",
   "nbconvert_exporter": "python",
   "pygments_lexer": "ipython3",
   "version": "3.9.5"
  }
 },
 "nbformat": 4,
 "nbformat_minor": 5
}
